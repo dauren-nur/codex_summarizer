{
 "cells": [
  {
   "cell_type": "markdown",
   "id": "d6e49cb3",
   "metadata": {},
   "source": [
    "# Turkic Audio Summarizer (Colab)\n",
    "\n",
    "This notebook sets up the Turkic audio summarizer Gradio application in Google Colab.\n",
    "It installs the required dependencies, optionally fetches the project files, and launches\n",
    "an interactive Gradio interface capable of transcribing Turkic-language audio, translating\n",
    "the transcript, and producing an English-based abstractive summary."
   ]
  },
  {
   "cell_type": "markdown",
   "id": "3b7b6c85",
   "metadata": {},
   "source": [
    "## 1. Install dependencies\n",
    "\n",
    "Run the following cell to install the Python packages needed for speech recognition,\n",
    "translation, summarization, and the Gradio UI."
   ]
  },
  {
   "cell_type": "code",
   "execution_count": null,
   "id": "fdc6a738",
   "metadata": {},
   "outputs": [],
   "source": [
    "!pip install -q gradio transformers accelerate sentencepiece librosa"
   ]
  },
  {
   "cell_type": "markdown",
   "id": "6eee89bd",
   "metadata": {},
   "source": [
    "## 2. Prepare the project files\n",
    "\n",
    "If you have not already copied this repository into your Colab workspace, uncomment and\n",
    "edit one of the commands below. You can either clone the GitHub repository or download a\n",
    "ZIP archive that contains `app.py`, `colab_app.py`, and `requirements.txt`.\n",
    "\n",
    "```bash\n",
    "# Option A: clone via HTTPS (replace with the actual repository URL)\n",
    "# !git clone https://github.com/your-username/codex_summarizer.git\n",
    "\n",
    "# Option B: download and unzip an archive (replace with the correct URL)\n",
    "# !curl -L -o codex_summarizer.zip \"https://example.com/codex_summarizer.zip\"\n",
    "# !unzip -o codex_summarizer.zip\n",
    "```\n",
    "\n",
    "After copying the files, change into the project directory before launching the app."
   ]
  },
  {
   "cell_type": "code",
   "execution_count": null,
   "id": "73ce1298",
   "metadata": {},
   "outputs": [],
   "source": [
    "%cd /content/codex_summarizer"
   ]
  },
  {
   "cell_type": "markdown",
   "id": "7c12227a",
   "metadata": {},
   "source": [
    "If you uploaded the files manually instead of cloning, ensure that `app.py` and\n",
    "`colab_app.py` are present in the current directory. The next cell performs a quick\n",
    "sanity check."
   ]
  },
  {
   "cell_type": "code",
   "execution_count": null,
   "id": "dc81e3a3",
   "metadata": {},
   "outputs": [],
   "source": [
    "from pathlib import Path\n",
    "required_files = ['app.py', 'colab_app.py', 'requirements.txt']\n",
    "for name in required_files:\n",
    "    path = Path(name)\n",
    "    if path.exists():\n",
    "        print(f'✅ Found {name}')\n",
    "    else:\n",
    "        print(f'⚠️ Missing {name} — copy it into this directory before continuing.')"
   ]
  },
  {
   "cell_type": "markdown",
   "id": "6fdb0362",
   "metadata": {},
   "source": [
    "## 3. Launch the Gradio interface\n",
    "\n",
    "The following cell preloads the Hugging Face pipelines and starts the Gradio app with a\n",
    "public share link so that it works seamlessly inside Colab. Keep the cell running while\n",
    "you interact with the UI."
   ]
  },
  {
   "cell_type": "code",
   "execution_count": null,
   "id": "2b3ad5a6",
   "metadata": {},
   "outputs": [],
   "source": [
    "!python colab_app.py"
   ]
  }
 ],
 "metadata": {},
 "nbformat": 4,
 "nbformat_minor": 5
}
